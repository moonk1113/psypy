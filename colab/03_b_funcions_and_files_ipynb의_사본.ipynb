{
  "nbformat": 4,
  "nbformat_minor": 0,
  "metadata": {
    "colab": {
      "name": "03_b_funcions_and_files.ipynb의 사본",
      "provenance": [],
      "include_colab_link": true
    },
    "kernelspec": {
      "display_name": "Python 3",
      "language": "python",
      "name": "python3"
    },
    "language_info": {
      "codemirror_mode": {
        "name": "ipython",
        "version": 3
      },
      "file_extension": ".py",
      "mimetype": "text/x-python",
      "name": "python",
      "nbconvert_exporter": "python",
      "pygments_lexer": "ipython3",
      "version": "3.6.8"
    }
  },
  "cells": [
    {
      "cell_type": "markdown",
      "metadata": {
        "id": "view-in-github",
        "colab_type": "text"
      },
      "source": [
        "<a href=\"https://colab.research.google.com/github/moonk1113/psypy/blob/master/colab/03_b_funcions_and_files_ipynb%EC%9D%98_%EC%82%AC%EB%B3%B8.ipynb\" target=\"_parent\"><img src=\"https://colab.research.google.com/assets/colab-badge.svg\" alt=\"Open In Colab\"/></a>"
      ]
    },
    {
      "cell_type": "markdown",
      "metadata": {
        "id": "v-I6Tqd9vArs",
        "colab_type": "text"
      },
      "source": [
        "# 03. 내장 자료구조, 함수, 파일 (2)"
      ]
    },
    {
      "cell_type": "markdown",
      "metadata": {
        "id": "pqoPQ4JLu2YV",
        "colab_type": "text"
      },
      "source": [
        "* 싸이그래머 / PsyPy [1]\n",
        "* 김무성"
      ]
    },
    {
      "cell_type": "code",
      "metadata": {
        "id": "THweB5Tzu2YW",
        "colab_type": "code",
        "outputId": "9439feaf-fddf-4f38-e22f-2afacc21d360",
        "colab": {
          "base_uri": "https://localhost:8080/",
          "height": 35
        }
      },
      "source": [
        "!python -V"
      ],
      "execution_count": 0,
      "outputs": [
        {
          "output_type": "stream",
          "text": [
            "Python 3.6.8\n"
          ],
          "name": "stdout"
        }
      ]
    },
    {
      "cell_type": "markdown",
      "metadata": {
        "id": "OkoN1Swsu2YZ",
        "colab_type": "text"
      },
      "source": [
        "# 차례 \n",
        "* 함수\n",
        "    - 네임스페이스, 스코프, 지역 함수\n",
        "    - 여러 값 반환하기\n",
        "    - 함수도 객체다\n",
        "    - 익명 함수\n",
        "    - 클로저 : 함수를 반환하는 함수\n",
        "    - \\*args와  \\*\\*kwargs를 사용해서 호출 문법 확장하기  \n",
        "    - 커링 : 일부 인자만 취하기\n",
        "    - 제너레이터\n",
        "    - 에러와 예외 다루기\n",
        "* 파일과 운영체제\n",
        "    - 바이트와 유니코드 파일"
      ]
    },
    {
      "cell_type": "markdown",
      "metadata": {
        "id": "PQGfnCP8u2Ya",
        "colab_type": "text"
      },
      "source": [
        "------------------------"
      ]
    },
    {
      "cell_type": "markdown",
      "metadata": {
        "id": "KOEuB8XCu2Yb",
        "colab_type": "text"
      },
      "source": [
        "# 함수"
      ]
    },
    {
      "cell_type": "markdown",
      "metadata": {
        "id": "dcV0A_DGu2Yd",
        "colab_type": "text"
      },
      "source": [
        "```python\n",
        "def my_function(x, y, z=1.5) :\n",
        "    if z > 1 :\n",
        "        return z * (x + y)\n",
        "    else :\n",
        "        return z / (x + y)\n",
        "    \n",
        "# return문이 몇 개가 되든 상관없다. \n",
        "# 함수 블록이 끝날 때까지 return문이 없다면 None이 반환된다.   \n",
        "```"
      ]
    },
    {
      "cell_type": "markdown",
      "metadata": {
        "id": "p9yu8JPhu2Ye",
        "colab_type": "text"
      },
      "source": [
        "## 네임스페이스, 스코프, 지역 함수"
      ]
    },
    {
      "cell_type": "markdown",
      "metadata": {
        "id": "IACL_twju2Ye",
        "colab_type": "text"
      },
      "source": [
        "```python\n",
        "# 로컬\n",
        "def func() :\n",
        "    a = []  # <- local\n",
        "    for i in range(5) :\n",
        "        a.append(i)\n",
        "```        "
      ]
    },
    {
      "cell_type": "markdown",
      "metadata": {
        "id": "6HbhKQ-yu2Yf",
        "colab_type": "text"
      },
      "source": [
        "```python\n",
        "# 전역 \n",
        "a = []\n",
        "def func() :\n",
        "    for i in range(5) :\n",
        "        a.append(i)\n",
        "        \n",
        "func()\n",
        "a\n",
        "```"
      ]
    },
    {
      "cell_type": "code",
      "metadata": {
        "id": "rxPyir7eu2Yg",
        "colab_type": "code",
        "outputId": "bbb627ff-c570-4ec0-f12c-658ff519673a",
        "colab": {
          "base_uri": "https://localhost:8080/",
          "height": 35
        }
      },
      "source": [
        "b = None\n",
        "def bind_b_variable() :\n",
        "    b = []\n",
        "    \n",
        "bind_b_variable()    \n",
        "print(b)    "
      ],
      "execution_count": 0,
      "outputs": [
        {
          "output_type": "stream",
          "text": [
            "None\n"
          ],
          "name": "stdout"
        }
      ]
    },
    {
      "cell_type": "code",
      "metadata": {
        "id": "4dxygrahu2Yi",
        "colab_type": "code",
        "outputId": "818b8f10-2392-4bff-b534-b2187b95a9c6",
        "colab": {
          "base_uri": "https://localhost:8080/",
          "height": 35
        }
      },
      "source": [
        "# global 예약어 사용\n",
        "b = None\n",
        "def bind_b_variable() :\n",
        "    global b\n",
        "    b = []\n",
        "\n",
        "bind_b_variable()\n",
        "print(b)"
      ],
      "execution_count": 0,
      "outputs": [
        {
          "output_type": "stream",
          "text": [
            "[]\n"
          ],
          "name": "stdout"
        }
      ]
    },
    {
      "cell_type": "markdown",
      "metadata": {
        "id": "Q-8jHbo4u2Yl",
        "colab_type": "text"
      },
      "source": [
        "```python\n",
        "# 함수 안에서 함수를 선언할 수 있다.\n",
        "def outer_function(x, y, z) :\n",
        "    def inner_function(a, b, c) :\n",
        "        pass\n",
        "    pass\n",
        "```"
      ]
    },
    {
      "cell_type": "markdown",
      "metadata": {
        "id": "VUu8U8W7u2Yl",
        "colab_type": "text"
      },
      "source": [
        "## 여러 값 반환하기"
      ]
    },
    {
      "cell_type": "code",
      "metadata": {
        "id": "k_l0oLbCu2Ym",
        "colab_type": "code",
        "outputId": "a34d864a-bc83-49ce-a221-81ff18bac03b",
        "colab": {
          "base_uri": "https://localhost:8080/",
          "height": 35
        }
      },
      "source": [
        "def f() :\n",
        "    a = 5\n",
        "    b = 6\n",
        "    c = 7\n",
        "    return a, b, c\n",
        "\n",
        "a, b, c = f()\n",
        "print(a, b, c)"
      ],
      "execution_count": 0,
      "outputs": [
        {
          "output_type": "stream",
          "text": [
            "5 6 7\n"
          ],
          "name": "stdout"
        }
      ]
    },
    {
      "cell_type": "code",
      "metadata": {
        "id": "gGncnYipu2Yo",
        "colab_type": "code",
        "outputId": "4ed035b3-6ce4-4a66-aa47-febc85cdaef6",
        "colab": {
          "base_uri": "https://localhost:8080/",
          "height": 35
        }
      },
      "source": [
        "return_value = f()\n",
        "return_value # 여래 개의 값을 하나의 변수에 반환받으면, 그 변수는 튜플 자료형이 된다."
      ],
      "execution_count": 0,
      "outputs": [
        {
          "output_type": "execute_result",
          "data": {
            "text/plain": [
              "(5, 6, 7)"
            ]
          },
          "metadata": {
            "tags": []
          },
          "execution_count": 5
        }
      ]
    },
    {
      "cell_type": "markdown",
      "metadata": {
        "id": "TG7CErDeu2Yr",
        "colab_type": "text"
      },
      "source": [
        "## 함수도 객체다"
      ]
    },
    {
      "cell_type": "code",
      "metadata": {
        "id": "Fag3HE6Ku2Yr",
        "colab_type": "code",
        "colab": {}
      },
      "source": [
        "states = [ '  Alabama ', 'Georgia!', 'Georgia', 'georgia', 'FlOrIda', \n",
        "          'south carolin##', 'West virginaia?']"
      ],
      "execution_count": 0,
      "outputs": []
    },
    {
      "cell_type": "markdown",
      "metadata": {
        "id": "AzfKddqVu2Yu",
        "colab_type": "text"
      },
      "source": [
        "### 문자열을 변형하기 위해 함수를 사용하는 일반적인 패턴"
      ]
    },
    {
      "cell_type": "code",
      "metadata": {
        "id": "wrhEPwb7u2Yu",
        "colab_type": "code",
        "colab": {}
      },
      "source": [
        "import re \n",
        "\n",
        "def clean_strings(strings) :\n",
        "    result = []\n",
        "    for value in strings :\n",
        "        value = value.strip()\n",
        "        value = re.sub('[!#?]', '', value) # 문장 부호 제거\n",
        "        value = value.title()\n",
        "        result.append(value)\n",
        "    return result"
      ],
      "execution_count": 0,
      "outputs": []
    },
    {
      "cell_type": "code",
      "metadata": {
        "id": "fVmHarUuu2Yw",
        "colab_type": "code",
        "outputId": "4d9fbd9f-dc6f-4a2a-f004-5f30cab9c61e",
        "colab": {
          "base_uri": "https://localhost:8080/",
          "height": 143
        }
      },
      "source": [
        "clean_strings(states)"
      ],
      "execution_count": 0,
      "outputs": [
        {
          "output_type": "execute_result",
          "data": {
            "text/plain": [
              "['Alabama',\n",
              " 'Georgia',\n",
              " 'Georgia',\n",
              " 'Georgia',\n",
              " 'Florida',\n",
              " 'South Carolin',\n",
              " 'West Virginaia']"
            ]
          },
          "metadata": {
            "tags": []
          },
          "execution_count": 8
        }
      ]
    },
    {
      "cell_type": "markdown",
      "metadata": {
        "id": "iCKuxqXOu2Y0",
        "colab_type": "text"
      },
      "source": [
        "### 함수를 객체화하고 인자로 넘겨서 좀 더 유연하게 사용하는 패턴"
      ]
    },
    {
      "cell_type": "code",
      "metadata": {
        "id": "oa4ISPflu2Y1",
        "colab_type": "code",
        "colab": {}
      },
      "source": [
        "def remove_punctuation(value) :\n",
        "    return re.sub('[!#?]', '', value)\n",
        "\n",
        "# 함수도 객체. \n",
        "clean_ops = [str.strip, remove_punctuation, str.title]\n",
        "\n",
        "def clean_strings(strings, ops) :\n",
        "    result = []\n",
        "    for value in strings :\n",
        "        for function in ops :\n",
        "            value = function(value) \n",
        "        result.append(value)\n",
        "    return result"
      ],
      "execution_count": 0,
      "outputs": []
    },
    {
      "cell_type": "code",
      "metadata": {
        "id": "jiScde28u2Y3",
        "colab_type": "code",
        "outputId": "2b3e341e-cc16-4766-98ce-b9152f99d128",
        "colab": {
          "base_uri": "https://localhost:8080/",
          "height": 143
        }
      },
      "source": [
        "clean_strings(states, clean_ops)"
      ],
      "execution_count": 0,
      "outputs": [
        {
          "output_type": "execute_result",
          "data": {
            "text/plain": [
              "['Alabama',\n",
              " 'Georgia',\n",
              " 'Georgia',\n",
              " 'Georgia',\n",
              " 'Florida',\n",
              " 'South Carolin',\n",
              " 'West Virginaia']"
            ]
          },
          "metadata": {
            "tags": []
          },
          "execution_count": 10
        }
      ]
    },
    {
      "cell_type": "code",
      "metadata": {
        "id": "ammnqhoWu2Y5",
        "colab_type": "code",
        "outputId": "0ddb8850-40f4-4289-f131-65aa15eb54c2",
        "colab": {
          "base_uri": "https://localhost:8080/",
          "height": 35
        }
      },
      "source": [
        "# map을 이용해본다. 어떤 컬렉션에 대해 함수를 적용하는 함수다. \n",
        "# 이를 이용해서 함수를 인자로 사용할 수 있다.\n",
        "map(remove_punctuation, states)"
      ],
      "execution_count": 0,
      "outputs": [
        {
          "output_type": "execute_result",
          "data": {
            "text/plain": [
              "<map at 0x7f2133a96f60>"
            ]
          },
          "metadata": {
            "tags": []
          },
          "execution_count": 11
        }
      ]
    },
    {
      "cell_type": "code",
      "metadata": {
        "id": "GSssdH-0u2Y7",
        "colab_type": "code",
        "outputId": "9560eae5-eb2f-4b7d-b5c1-564549dd4f99",
        "colab": {
          "base_uri": "https://localhost:8080/",
          "height": 143
        }
      },
      "source": [
        "for e in map(remove_punctuation, states) :\n",
        "    print(e)"
      ],
      "execution_count": 0,
      "outputs": [
        {
          "output_type": "stream",
          "text": [
            "  Alabama \n",
            "Georgia\n",
            "Georgia\n",
            "georgia\n",
            "FlOrIda\n",
            "south carolin\n",
            "West virginaia\n"
          ],
          "name": "stdout"
        }
      ]
    },
    {
      "cell_type": "markdown",
      "metadata": {
        "id": "Dtae_lMHu2Y9",
        "colab_type": "text"
      },
      "source": [
        "## 익명 함수 "
      ]
    },
    {
      "cell_type": "markdown",
      "metadata": {
        "id": "BnOxWSL2u2Y-",
        "colab_type": "text"
      },
      "source": [
        "```python\n",
        "def short_function(x) :\n",
        "    return x * 2\n",
        "\n",
        "# 위의 함수와 동치인 익명 함수(람다 함수)\n",
        "equiv_anon = lambda x: x * 2\n",
        "```"
      ]
    },
    {
      "cell_type": "code",
      "metadata": {
        "id": "4zjf8Mhru2Y-",
        "colab_type": "code",
        "outputId": "d9b9a3f8-0cfa-4373-f14c-c2aaa8c03a46",
        "colab": {
          "base_uri": "https://localhost:8080/",
          "height": 35
        }
      },
      "source": [
        "# 각 문자열에서 다양한 문자가 포함된 순서로 정렬하는 예제\n",
        "strings = ['foo', 'card', 'bar', 'aaaa', 'abab']\n",
        "strings.sort(key=lambda x: len(set(list(x))))\n",
        "strings"
      ],
      "execution_count": 0,
      "outputs": [
        {
          "output_type": "execute_result",
          "data": {
            "text/plain": [
              "['aaaa', 'foo', 'abab', 'bar', 'card']"
            ]
          },
          "metadata": {
            "tags": []
          },
          "execution_count": 13
        }
      ]
    }
  ]
}